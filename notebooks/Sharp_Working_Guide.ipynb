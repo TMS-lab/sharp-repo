{
 "cells": [
  {
   "cell_type": "markdown",
   "metadata": {},
   "source": [
    "# Working with XNAT using PyXNAT"
   ]
  },
  {
   "cell_type": "markdown",
   "metadata": {},
   "source": [
    "### Download PyXNAT Module"
   ]
  },
  {
   "cell_type": "code",
   "execution_count": null,
   "metadata": {},
   "outputs": [],
   "source": [
    "!pip install pyxnat"
   ]
  },
  {
   "cell_type": "markdown",
   "metadata": {},
   "source": [
    "#### Connect to server: Enter user : password "
   ]
  },
  {
   "cell_type": "code",
   "execution_count": null,
   "metadata": {},
   "outputs": [],
   "source": [
    "import pyxnat\n",
    "import os\n",
    "\n",
    "# connect to XNAT instance\n",
    "from pyxnat import Interface\n",
    "xnat = Interface(server='http://sharp.bidmc.harvard.edu:8080',  cachedir='/tmp')\n",
    "xnat.select.projects().get()"
   ]
  },
  {
   "cell_type": "markdown",
   "metadata": {},
   "source": [
    "### Different types of datatypes supported by XNAT"
   ]
  },
  {
   "cell_type": "code",
   "execution_count": null,
   "metadata": {},
   "outputs": [],
   "source": [
    "xnat.inspect.datatypes()"
   ]
  },
  {
   "cell_type": "markdown",
   "metadata": {},
   "source": [
    "### Check number of Subject"
   ]
  },
  {
   "cell_type": "code",
   "execution_count": null,
   "metadata": {},
   "outputs": [],
   "source": [
    "subjects = xnat.select('/projects/FAST/subjects')\n",
    "subjects.get().__len__()"
   ]
  },
  {
   "cell_type": "markdown",
   "metadata": {},
   "source": [
    "### Loading the project"
   ]
  },
  {
   "cell_type": "code",
   "execution_count": null,
   "metadata": {},
   "outputs": [],
   "source": [
    "project = xnat.select.project('FAST')\n",
    "print(project)"
   ]
  },
  {
   "cell_type": "markdown",
   "metadata": {},
   "source": [
    "### Working with Subject Data"
   ]
  },
  {
   "cell_type": "code",
   "execution_count": null,
   "metadata": {},
   "outputs": [],
   "source": [
    "contraints = [('xnat:subjectData/SUBJECT_ID','LIKE','%'),\n",
    "                  'AND', ('xnat:subjectData/PROJECT', '=', 'FAST') \n",
    "              ]\n",
    "table = xnat.select('xnat:subjectData', ['xnat:subjectData/SUBJECT_LABEL','xnat:subjectData/PROJECT','xnat:subjectData/SUBJECT_ID']).where(contraints)\n",
    "table.__len__()"
   ]
  },
  {
   "cell_type": "code",
   "execution_count": null,
   "metadata": {},
   "outputs": [],
   "source": [
    "print(table)"
   ]
  },
  {
   "cell_type": "markdown",
   "metadata": {},
   "source": [
    "### Working with MRI Session Data"
   ]
  },
  {
   "cell_type": "code",
   "execution_count": null,
   "metadata": {},
   "outputs": [],
   "source": [
    "contraints = [('xnat:mrSessionData/ID','LIKE','%'),\n",
    "                  'AND', ('xnat:subjectData/PROJECT', '=', 'FAST')\n",
    "             ]\n",
    "table1 = xnat.select('xnat:mrSessionData', ['xnat:mrSessionData/SUBJECT_LABEL','xnat:mrSessionData/SESSION_ID']).where(contraints)\n",
    "table1.__len__()"
   ]
  },
  {
   "cell_type": "code",
   "execution_count": null,
   "metadata": {},
   "outputs": [],
   "source": [
    "print(table1)"
   ]
  },
  {
   "cell_type": "markdown",
   "metadata": {},
   "source": [
    "### Filtering using Behavioral scores"
   ]
  },
  {
   "cell_type": "code",
   "execution_count": null,
   "metadata": {},
   "outputs": [],
   "source": [
    "contraints = [('xnat:subjectData/SUBJECT_ID','LIKE','%'),\n",
    "                  ('behavioral:scores/VocabScore', '>=', '36'),\n",
    "                  'AND', ('xnat:subjectData/PROJECT', '=', 'FAST')\n",
    "             ]\n",
    "table1 = xnat.select('xnat:subjectData').where(contraints)\n",
    "table1.__len__()"
   ]
  },
  {
   "cell_type": "markdown",
   "metadata": {},
   "source": [
    "### Downloading the selective data"
   ]
  },
  {
   "cell_type": "markdown",
   "metadata": {},
   "source": [
    "Lets start with download data for one subject"
   ]
  },
  {
   "cell_type": "code",
   "execution_count": null,
   "metadata": {},
   "outputs": [],
   "source": [
    "subject = xnat.select.project('FAST').subject('0001')\n",
    "experiment = subject.experiment(\"SHARP_E00746\")\n",
    "allscans = experiment.scans()\n",
    "allscans.download(\"/tmp\", type='ALL', extract=False)"
   ]
  },
  {
   "cell_type": "markdown",
   "metadata": {},
   "source": [
    "Now lets write a filer to download the selective data for all the subjects"
   ]
  },
  {
   "cell_type": "code",
   "execution_count": null,
   "metadata": {
    "collapsed": true
   },
   "outputs": [],
   "source": [
    "# Filer can be developed based on the data parameters\n",
    "contraints = [('xnat:mrSessionData/ID','LIKE','%'),\n",
    "                  'AND', ('xnat:subjectData/PROJECT', '=', 'FAST')\n",
    "\n",
    "list_subjects = xnat.select.project('FAST').subjects().where(contraints)\n",
    "for list_subject in list_subjects:\n",
    "    list_experiments = list_subject.experiments().where(contraints)\n",
    "    for list_experiment in list_experiments:\n",
    "        print list_experiment\n",
    "        scans = list_experiment.scans()\n",
    "        try:\n",
    "            # Number 2 is for Anatomical data. Similar types can be set for other data types\n",
    "            scans.download(\"/tmp\", type='2', extract=False)\n",
    "        except:\n",
    "            print \"There are no scans to download\""
   ]
  }
 ],
 "metadata": {
  "kernelspec": {
   "display_name": "Python 2",
   "language": "python",
   "name": "python2"
  },
  "language_info": {
   "codemirror_mode": {
    "name": "ipython",
    "version": 2
   },
   "file_extension": ".py",
   "mimetype": "text/x-python",
   "name": "python",
   "nbconvert_exporter": "python",
   "pygments_lexer": "ipython2",
   "version": "2.7.13"
  }
 },
 "nbformat": 4,
 "nbformat_minor": 2
}
