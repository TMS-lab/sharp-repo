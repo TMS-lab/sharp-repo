{
 "cells": [
  {
   "cell_type": "markdown",
   "metadata": {},
   "source": [
    "# Working with XNAT using PyXNAT"
   ]
  },
  {
   "cell_type": "markdown",
   "metadata": {},
   "source": [
    "### Download PyXNAT Module"
   ]
  },
  {
   "cell_type": "code",
   "execution_count": 1,
   "metadata": {},
   "outputs": [
    {
     "name": "stdout",
     "output_type": "stream",
     "text": [
      "Collecting pyxnat\n",
      "  Downloading pyxnat-1.0.0.0.tar.gz (540kB)\n",
      "\u001b[K    100% |████████████████████████████████| 542kB 1.6MB/s ta 0:00:011\n",
      "\u001b[?25hRequirement already satisfied: requests in /Library/Python/2.7/site-packages (from pyxnat)\n",
      "Requirement already satisfied: lxml in /Library/Python/2.7/site-packages (from pyxnat)\n",
      "Requirement already satisfied: idna<2.6,>=2.5 in /Library/Python/2.7/site-packages (from requests->pyxnat)\n",
      "Requirement already satisfied: certifi>=2017.4.17 in /Library/Python/2.7/site-packages (from requests->pyxnat)\n",
      "Requirement already satisfied: urllib3<1.23,>=1.21.1 in /Library/Python/2.7/site-packages (from requests->pyxnat)\n",
      "Requirement already satisfied: chardet<3.1.0,>=3.0.2 in /Library/Python/2.7/site-packages (from requests->pyxnat)\n",
      "Building wheels for collected packages: pyxnat\n",
      "  Running setup.py bdist_wheel for pyxnat ... \u001b[?25ldone\n",
      "\u001b[?25h  Stored in directory: /Users/raminder/Library/Caches/pip/wheels/2d/79/f1/4a31fb18b992650bbd099574ce9675286db813ad3556282ccc\n",
      "Successfully built pyxnat\n",
      "Installing collected packages: pyxnat\n",
      "Successfully installed pyxnat-1.0.0.0\n"
     ]
    }
   ],
   "source": [
    "!pip install pyxnat"
   ]
  },
  {
   "cell_type": "markdown",
   "metadata": {},
   "source": [
    "#### Connect to server: Enter user : password "
   ]
  },
  {
   "cell_type": "code",
   "execution_count": 86,
   "metadata": {},
   "outputs": [
    {
     "name": "stdout",
     "output_type": "stream",
     "text": [
      "User: admin\n",
      "········\n"
     ]
    },
    {
     "data": {
      "text/plain": [
       "['SHARP_1A', 'FAST', 'INSIGHT', 'SHARP_2B']"
      ]
     },
     "execution_count": 86,
     "metadata": {},
     "output_type": "execute_result"
    }
   ],
   "source": [
    "import pyxnat\n",
    "import os\n",
    "\n",
    "# connect to XNAT instance\n",
    "from pyxnat import Interface\n",
    "xnat = Interface(server='http://sharp.bidmc.harvard.edu:8080',  cachedir='/tmp')\n",
    "xnat.select.projects().get()"
   ]
  },
  {
   "cell_type": "markdown",
   "metadata": {},
   "source": [
    "### Different types of datatypes supported by XNAT"
   ]
  },
  {
   "cell_type": "code",
   "execution_count": 3,
   "metadata": {},
   "outputs": [
    {
     "data": {
      "text/plain": [
       "['xnat:qcAssessmentData',\n",
       " 'xnat:investigatorData',\n",
       " 'xnat:qcManualAssessorData',\n",
       " 'xnat:petmrSessionData',\n",
       " 'xnat:subjectData',\n",
       " 'xnat:crSessionData',\n",
       " 'val:protocolData',\n",
       " 'xnat:subjectVariablesData',\n",
       " 'xnat:petSessionData',\n",
       " 'xnat:pVisitData',\n",
       " 'xnat:mrSessionData',\n",
       " 'xnat:ctSessionData',\n",
       " 'xnat:projectData',\n",
       " 'xnat:eegScanData',\n",
       " 'behavioral:scores',\n",
       " 'xnat:eegSessionData']"
      ]
     },
     "execution_count": 3,
     "metadata": {},
     "output_type": "execute_result"
    }
   ],
   "source": [
    "xnat.inspect.datatypes()"
   ]
  },
  {
   "cell_type": "markdown",
   "metadata": {},
   "source": [
    "### Check number of Subject"
   ]
  },
  {
   "cell_type": "code",
   "execution_count": 74,
   "metadata": {},
   "outputs": [
    {
     "data": {
      "text/plain": [
       "92"
      ]
     },
     "execution_count": 74,
     "metadata": {},
     "output_type": "execute_result"
    }
   ],
   "source": [
    "subjects = xnat.select('/projects/FAST/subjects')\n",
    "subjects.get().__len__()"
   ]
  },
  {
   "cell_type": "markdown",
   "metadata": {},
   "source": [
    "### Loading the project"
   ]
  },
  {
   "cell_type": "code",
   "execution_count": 19,
   "metadata": {},
   "outputs": [
    {
     "name": "stdout",
     "output_type": "stream",
     "text": [
      "<Project Object> FAST\n"
     ]
    }
   ],
   "source": [
    "project = xnat.select.project('FAST')\n",
    "print(project)"
   ]
  },
  {
   "cell_type": "markdown",
   "metadata": {},
   "source": [
    "### Working with Subject Data"
   ]
  },
  {
   "cell_type": "code",
   "execution_count": 80,
   "metadata": {},
   "outputs": [
    {
     "data": {
      "text/plain": [
       "92"
      ]
     },
     "execution_count": 80,
     "metadata": {},
     "output_type": "execute_result"
    }
   ],
   "source": [
    "contraints = [('xnat:subjectData/SUBJECT_ID','LIKE','%'),\n",
    "                  'AND', ('xnat:subjectData/PROJECT', '=', 'FAST') \n",
    "              ]\n",
    "table = xnat.select('xnat:subjectData', ['xnat:subjectData/PROJECT','xnat:subjectData/SUBJECT_ID','xnat:subjectData/SUBJECT_LABEL']).where(contraints)\n",
    "table.__len__()"
   ]
  },
  {
   "cell_type": "code",
   "execution_count": null,
   "metadata": {
    "collapsed": true
   },
   "outputs": [],
   "source": [
    "print(table)"
   ]
  },
  {
   "cell_type": "markdown",
   "metadata": {},
   "source": [
    "### Working with MRI Session Data"
   ]
  },
  {
   "cell_type": "code",
   "execution_count": 75,
   "metadata": {},
   "outputs": [
    {
     "data": {
      "text/plain": [
       "159"
      ]
     },
     "execution_count": 75,
     "metadata": {},
     "output_type": "execute_result"
    }
   ],
   "source": [
    "contraints = [('xnat:mrSessionData/ID','LIKE','%'),\n",
    "                  'AND', ('xnat:subjectData/PROJECT', '=', 'FAST')\n",
    "             ]\n",
    "table1 = xnat.select('xnat:mrSessionData', ['xnat:mrSessionData/SUBJECT_LABEL','xnat:mrSessionData/SESSION_ID']).where(contraints)\n",
    "table1.__len__()"
   ]
  },
  {
   "cell_type": "code",
   "execution_count": 82,
   "metadata": {},
   "outputs": [
    {
     "name": "stdout",
     "output_type": "stream",
     "text": [
      "subject_label,session_id\r\n",
      "0001,SHARP_E00746\r\n",
      "0001,SHARP_E00747\r\n",
      "0002,SHARP_E00467\r\n",
      "0002,SHARP_E00463\r\n",
      "0003,SHARP_E00664\r\n",
      "0003,SHARP_E00663\r\n",
      "0004,SHARP_E00008\r\n",
      "0004,SHARP_E00001\r\n",
      "0005,SHARP_E00752\r\n",
      "0005,SHARP_E00765\r\n",
      "0007,SHARP_E00140\r\n",
      "0007,SHARP_E00141\r\n",
      "0008,SHARP_E00639\r\n",
      "0008,SHARP_E00640\r\n",
      "0009,SHARP_E00147\r\n",
      "0009,SHARP_E01907\r\n",
      "0010,SHARP_E00045\r\n",
      "0010,SHARP_E00044\r\n",
      "0011,SHARP_E00714\r\n",
      "0011,SHARP_E00713\r\n",
      "0013,SHARP_E00766\r\n",
      "0013,SHARP_E00767\r\n",
      "0014,SHARP_E00475\r\n",
      "0015,SHARP_E00741\r\n",
      "0015,SHARP_E00742\r\n",
      "0016,SHARP_E00009\r\n",
      "0016,SHARP_E00010\r\n",
      "0017,SHARP_E00643\r\n",
      "0017,SHARP_E00644\r\n",
      "0019,SHARP_E00245\r\n",
      "0020,SHARP_E00471\r\n",
      "0021,SHARP_E00033\r\n",
      "0022,SHARP_E00651\r\n",
      "0022,SHARP_E01648\r\n",
      "0023,SHARP_E00526\r\n",
      "0023,SHARP_E00522\r\n",
      "0024,SHARP_E00684\r\n",
      "0024,SHARP_E00685\r\n",
      "0025,SHARP_E00721\r\n",
      "0026,SHARP_E00628\r\n",
      "0026,SHARP_E00632\r\n",
      "0030,SHARP_E00351\r\n",
      "0030,SHARP_E00355\r\n",
      "0031,SHARP_E00740\r\n",
      "0031,SHARP_E00739\r\n",
      "0032,SHARP_E00496\r\n",
      "0032,SHARP_E00500\r\n",
      "0034,SHARP_E00058\r\n",
      "0034,SHARP_E00057\r\n",
      "0036,SHARP_E00407\r\n",
      "0037,SHARP_E00360\r\n",
      "0037,SHARP_E00363\r\n",
      "0038,SHARP_E00668\r\n",
      "0038,SHARP_E00667\r\n",
      "0040,SHARP_E00037\r\n",
      "0040,SHARP_E00038\r\n",
      "0041,SHARP_E00734\r\n",
      "0041,SHARP_E00733\r\n",
      "0042,SHARP_E00450\r\n",
      "0043,SHARP_E01651\r\n",
      "0043,SHARP_E00035\r\n",
      "0044,SHARP_E00552\r\n",
      "0044,SHARP_E00556\r\n",
      "0046,SHARP_E00705\r\n",
      "0047,SHARP_E00249\r\n",
      "0048,SHARP_E00022\r\n",
      "0048,SHARP_E00023\r\n",
      "0051,SHARP_E00652\r\n",
      "0051,SHARP_E00653\r\n",
      "0054,SHARP_E00728\r\n",
      "0055,SHARP_E00689\r\n",
      "0055,SHARP_E00688\r\n",
      "0059,SHARP_E00636\r\n",
      "0060,SHARP_E00712\r\n",
      "0062,SHARP_E00385\r\n",
      "0063,SHARP_E00680\r\n",
      "0063,SHARP_E00679\r\n",
      "0065,SHARP_E00708\r\n",
      "0065,SHARP_E00709\r\n",
      "0066,SHARP_E00726\r\n",
      "0067,SHARP_E00047\r\n",
      "0067,SHARP_E00046\r\n",
      "0068,SHARP_E00129\r\n",
      "0069,SHARP_E00265\r\n",
      "0069,SHARP_E00269\r\n",
      "0070,SHARP_E00600\r\n",
      "0070,SHARP_E00596\r\n",
      "0071,SHARP_E00029\r\n",
      "0073,SHARP_E00237\r\n",
      "0075,SHARP_E00297\r\n",
      "0075,SHARP_E00307\r\n",
      "0080,SHARP_E00139\r\n",
      "0080,SHARP_E00138\r\n",
      "0081,SHARP_E00719\r\n",
      "0081,SHARP_E00718\r\n",
      "0082,SHARP_E00457\r\n",
      "0082,SHARP_E00456\r\n",
      "0083,SHARP_E00724\r\n",
      "0083,SHARP_E00725\r\n",
      "0084,SHARP_E00459\r\n",
      "0084,SHARP_E00458\r\n",
      "0085,SHARP_E00731\r\n",
      "0085,SHARP_E00732\r\n",
      "0090,SHARP_E00112\r\n",
      "0090,SHARP_E00110\r\n",
      "0091,SHARP_E00564\r\n",
      "0091,SHARP_E00561\r\n",
      "0093,SHARP_E00743\r\n",
      "0094,SHARP_E01655\r\n",
      "0094,SHARP_E00681\r\n",
      "0095,SHARP_E00332\r\n",
      "0095,SHARP_E00336\r\n",
      "0098,SHARP_E00028\r\n",
      "0099,SHARP_E00039\r\n",
      "0101,SHARP_E00624\r\n",
      "0102,SHARP_E00241\r\n",
      "0104,SHARP_E00024\r\n",
      "0104,SHARP_E00025\r\n",
      "0105,SHARP_E00399\r\n",
      "0105,SHARP_E00403\r\n",
      "0107,SHARP_E00641\r\n",
      "0107,SHARP_E00642\r\n",
      "0110,SHARP_E00722\r\n",
      "0110,SHARP_E00723\r\n",
      "0112,SHARP_E00608\r\n",
      "0112,SHARP_E00605\r\n",
      "0113,SHARP_E00645\r\n",
      "0113,SHARP_E00646\r\n",
      "0114,SHARP_E00446\r\n",
      "0115,SHARP_E00398\r\n",
      "0115,SHARP_E00395\r\n",
      "0116,SHARP_E00229\r\n",
      "0116,SHARP_E00225\r\n",
      "0117,SHARP_E00006\r\n",
      "0117,SHARP_E00007\r\n",
      "0118,SHARP_E00735\r\n",
      "0118,SHARP_E00736\r\n",
      "0119,SHARP_E00699\r\n",
      "0119,SHARP_E00700\r\n",
      "0120,SHARP_E00620\r\n",
      "0120,SHARP_E00616\r\n",
      "0121,SHARP_E00748\r\n",
      "0121,SHARP_E00749\r\n",
      "0123,SHARP_E00649\r\n",
      "0123,SHARP_E00650\r\n",
      "0124,SHARP_E00730\r\n",
      "0124,SHARP_E00729\r\n",
      "0125,SHARP_E00026\r\n",
      "0125,SHARP_E00027\r\n",
      "0126,SHARP_E00745\r\n",
      "0126,SHARP_E00744\r\n",
      "0127,SHARP_E00032\r\n",
      "0128,SHARP_E00031\r\n",
      "0128,SHARP_E00030\r\n",
      "0129,SHARP_E00280\r\n",
      "0129,SHARP_E00283\r\n",
      "0131,SHARP_E00042\r\n",
      "0131,SHARP_E00043\r\n",
      "0132,SHARP_E00453\r\n",
      "\n"
     ]
    }
   ],
   "source": [
    "print(table1)"
   ]
  },
  {
   "cell_type": "markdown",
   "metadata": {},
   "source": [
    "### Filtering using Behavioral scores"
   ]
  },
  {
   "cell_type": "code",
   "execution_count": 84,
   "metadata": {},
   "outputs": [
    {
     "data": {
      "text/plain": [
       "18"
      ]
     },
     "execution_count": 84,
     "metadata": {},
     "output_type": "execute_result"
    }
   ],
   "source": [
    "contraints = [('xnat:subjectData/SUBJECT_ID','LIKE','%'),\n",
    "                  ('behavioral:scores/VocabScore', '>=', '36'),\n",
    "                  'AND', ('xnat:subjectData/PROJECT', '=', 'FAST')\n",
    "             ]\n",
    "table1 = xnat.select('xnat:subjectData').where(contraints)\n",
    "table1.__len__()"
   ]
  },
  {
   "cell_type": "markdown",
   "metadata": {},
   "source": [
    "### Downloading the selective data"
   ]
  },
  {
   "cell_type": "markdown",
   "metadata": {},
   "source": [
    "Lets start with download data for one subject"
   ]
  },
  {
   "cell_type": "code",
   "execution_count": 88,
   "metadata": {},
   "outputs": [
    {
     "data": {
      "text/plain": [
       "'/tmp/FAST_0001_SHARP_E00746_scans_ALL.zip'"
      ]
     },
     "execution_count": 88,
     "metadata": {},
     "output_type": "execute_result"
    }
   ],
   "source": [
    "subject = xnat.select.project('FAST').subject('0001')\n",
    "experiment = subject.experiment(\"SHARP_E00746\")\n",
    "allscans = experiment.scans()\n",
    "allscans.download(\"/tmp\", type='ALL', extract=False)"
   ]
  },
  {
   "cell_type": "markdown",
   "metadata": {},
   "source": [
    "Now lets write a filer to download the selective data for all the subjects"
   ]
  },
  {
   "cell_type": "code",
   "execution_count": null,
   "metadata": {
    "collapsed": true
   },
   "outputs": [],
   "source": [
    "# Filer can be developed based on the data parameters\n",
    "contraints = [('xnat:mrSessionData/ID','LIKE','%'),\n",
    "                  'AND', ('xnat:subjectData/PROJECT', '=', 'FAST')\n",
    "\n",
    "list_subjects = xnat.select.project('FAST').subjects().where(contraints)\n",
    "for list_subject in list_subjects:\n",
    "    list_experiments = list_subject.experiments().where(contraints)\n",
    "    for list_experiment in list_experiments:\n",
    "        print list_experiment\n",
    "        scans = list_experiment.scans()\n",
    "        try:\n",
    "            # Number 2 is for Anatomical data. Similar types can be set for other data types\n",
    "            scans.download(\"/tmp\", type='2', extract=False)\n",
    "        except:\n",
    "            print \"There are no scans to download\""
   ]
  }
 ],
 "metadata": {
  "kernelspec": {
   "display_name": "Python 2",
   "language": "python",
   "name": "python2"
  },
  "language_info": {
   "codemirror_mode": {
    "name": "ipython",
    "version": 2
   },
   "file_extension": ".py",
   "mimetype": "text/x-python",
   "name": "python",
   "nbconvert_exporter": "python",
   "pygments_lexer": "ipython2",
   "version": "2.7.13"
  }
 },
 "nbformat": 4,
 "nbformat_minor": 2
}
